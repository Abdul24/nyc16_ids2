{
 "cells": [
  {
   "cell_type": "markdown",
   "metadata": {},
   "source": [
    "# OH GOD WHAT NOW? \n",
    "# or \n",
    "# Data Science Topics I Didn't Cover and Where To Go From Here\n"
   ]
  },
  {
   "cell_type": "markdown",
   "metadata": {},
   "source": [
    "## Recommendation Engines (or Recommendation Systems)\n",
    "\n",
    "![recommendation engine example](../images/recommendation_engine.png)\n",
    "\n",
    "### Problem: How can we recommend the \"most useful\" or \"most likely to be consumed and enjoyed\" items (books/movies/songs/media/clothing/investment products/etc.) to people?\n",
    "\n",
    "### 2 Basic Types of Recommendation Engines:\n",
    "\n",
    "### **Content-based:** Use the properties of items to recommend \"similar\" items (PANDORA DOES THIS)\n",
    "\n",
    "### **Collaborative:** Use the user's ratings on items and the ratings of others on those same items to recommend other items that \"similar\" users have also given high ratings (AMAZON/NETFLIX DO THIS)\n",
    "\n",
    "### Are there Python libraries for this?\n",
    "\n",
    "### [Dato]() has a really easy to use recommendation engine module, but its NOT FREE (BOO)\n",
    "### In general, recommenders are built at scale using other languages (Python has pretty terrible support for recommendation engines/systems)"
   ]
  },
  {
   "cell_type": "markdown",
   "metadata": {},
   "source": [
    "## Deep Learning\n",
    "\n",
    "### What is it?\n",
    "\n",
    "### A really fancy supervised classification/regression method\n",
    "\n",
    "![artificial neural network example](../images/artificial_neural_network.png)\n",
    "\n",
    "### What is it used on? Datasets that are really really big that require learning really really complicated representations:\n",
    "\n",
    "### Pictures/Videos, Text:\n",
    "\n",
    "![facial recognition deep learning example](../images/calista-deepface.png)\n",
    "\n",
    "### What is it used for? Making object detection and labeling problems/classifying and rating text (sentiment analysis), low-level content \"understanding\"\n",
    "\n",
    "### Are there Python libraries for this?\n",
    "\n",
    "### [tensorflow](https://www.tensorflow.org) is google's new deep learning package. It just came out but everyone is going bonkers over it because GOOGLE.\n",
    "### [theano](http://deeplearning.net/software/theano/) this is much more established, works very well with both your CPU and your graphics card (whaaaaat??)\n",
    "### [keras](http://keras.io) is another Python library that you can use to build deep learning models and hook into either theano or tensorflow. "
   ]
  },
  {
   "cell_type": "markdown",
   "metadata": {},
   "source": [
    "## Natural Language Processing\n",
    "\n",
    "### How can I use machine learning when I have freeform text instead of a matrix with rows and columns? How can I cluster texts? How can I try to model useful things from text generally?\n",
    "\n",
    "### Are there Python libraries for this?\n",
    "### [nltk]() is the grandaddy NLP library in Python, but its kinda fallen behind a bit\n",
    "### [spacy]() is a newer, more modern NLP library\n",
    "### [gensim]() is a very cool new library that allows you to learn word vector representations from text (so you can create text topics)"
   ]
  },
  {
   "cell_type": "markdown",
   "metadata": {},
   "source": [
    "## BIG DATA\n",
    "\n",
    "### Problem: Data Science is great and all on my little laptop, but can it scale to billions/trillions/septillions of examples?\n",
    "\n",
    "## YES! JUST ADD BIG DATA\n",
    "\n",
    "![big data](../images/big_data.jpg)\n",
    "\n",
    "### What this really means is, use api's that can scale across many many interconnected computers (servers)\n",
    "\n",
    "### Can you BIG DATA in Python?\n",
    "\n",
    "### [SPARK](http://spark.apache.org) has a Python api. It's a big data framework (currently the hottest big data framework) that takes many of the algorithms and approaches we learned (data analysis, exploration, etc.) and scales them to work across many computers (DataFrames are implemented in Spark, so is Logistic Regression/Linear Regression and Random Forests)"
   ]
  },
  {
   "cell_type": "markdown",
   "metadata": {},
   "source": [
    "## OK WHAT DO I DO NEXT?\n",
    "\n",
    "### 1. Use what you've learned (code in Python when you want to use Excel)\n",
    "### 2. Go a bit deeper into the mathematics behind some of these algorithms (you need to know a little bit of 1st year calculus and a bit more linear algebra) by [reading one of the classic texts on the topic FOR FREE](http://statweb.stanford.edu/~tibs/ElemStatLearn/)\n",
    "### 3. Learn more! Check [DataTau](http://www.datatau.com) every day. lurk on the [machine learning](https://www.reddit.com/r/MachineLearning/) and [statistics](https://www.reddit.com/r/statistics) subreddits (yes there are useful things on reddit).\n",
    "### 4. Keep coding. As frequently as you can (or want).\n",
    "### 5. Keep learning. Check out [metacademy](http://www.metacademy.org/roadmaps/). They have self-directed, free course road maps to LEVEL UP.\n",
    "### 6. All of you are very capable of doing this. Keep going, because I personally think this stuff is really fun (and these skills will probably inform the future of every freaking industry)."
   ]
  }
 ],
 "metadata": {
  "kernelspec": {
   "display_name": "Python 2",
   "language": "python",
   "name": "python2"
  },
  "language_info": {
   "codemirror_mode": {
    "name": "ipython",
    "version": 2
   },
   "file_extension": ".py",
   "mimetype": "text/x-python",
   "name": "python",
   "nbconvert_exporter": "python",
   "pygments_lexer": "ipython2",
   "version": "2.7.11"
  }
 },
 "nbformat": 4,
 "nbformat_minor": 0
}
